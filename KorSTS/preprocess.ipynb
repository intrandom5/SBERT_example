{
 "cells": [
  {
   "cell_type": "code",
   "execution_count": 18,
   "id": "8e2882e3",
   "metadata": {},
   "outputs": [],
   "source": [
    "tsv = {\"genre\": [], \"filename\": [], \"year\": [], \"id\": [], \"score\": [], \"sentence1\": [], \"sentence2\": []}\n",
    "\n",
    "with open(\"sts-train.tsv\", \"r\", encoding='utf-8') as f:\n",
    "    for line in f.readlines()[1:]:\n",
    "        line = line.split(\"\\t\")\n",
    "        \n",
    "        for i, key in enumerate(tsv.keys()):\n",
    "            tsv[key].append(line[i].replace(\"\\n\", \"\"))"
   ]
  },
  {
   "cell_type": "code",
   "execution_count": 19,
   "id": "60824466",
   "metadata": {},
   "outputs": [
    {
     "name": "stdout",
     "output_type": "stream",
     "text": [
      "5749\n",
      "5749\n",
      "5749\n",
      "5749\n",
      "5749\n",
      "5749\n",
      "5749\n"
     ]
    }
   ],
   "source": [
    "for key in tsv.keys():\n",
    "    print(len(tsv[key]))"
   ]
  },
  {
   "cell_type": "code",
   "execution_count": 20,
   "id": "8df036d4",
   "metadata": {},
   "outputs": [
    {
     "data": {
      "text/html": [
       "<div>\n",
       "<style scoped>\n",
       "    .dataframe tbody tr th:only-of-type {\n",
       "        vertical-align: middle;\n",
       "    }\n",
       "\n",
       "    .dataframe tbody tr th {\n",
       "        vertical-align: top;\n",
       "    }\n",
       "\n",
       "    .dataframe thead th {\n",
       "        text-align: right;\n",
       "    }\n",
       "</style>\n",
       "<table border=\"1\" class=\"dataframe\">\n",
       "  <thead>\n",
       "    <tr style=\"text-align: right;\">\n",
       "      <th></th>\n",
       "      <th>genre</th>\n",
       "      <th>filename</th>\n",
       "      <th>year</th>\n",
       "      <th>id</th>\n",
       "      <th>score</th>\n",
       "      <th>sentence1</th>\n",
       "      <th>sentence2</th>\n",
       "    </tr>\n",
       "  </thead>\n",
       "  <tbody>\n",
       "    <tr>\n",
       "      <th>0</th>\n",
       "      <td>main-captions</td>\n",
       "      <td>MSRvid</td>\n",
       "      <td>2012test</td>\n",
       "      <td>0001</td>\n",
       "      <td>5.000</td>\n",
       "      <td>비행기가 이륙하고 있다.</td>\n",
       "      <td>비행기가 이륙하고 있다.</td>\n",
       "    </tr>\n",
       "    <tr>\n",
       "      <th>1</th>\n",
       "      <td>main-captions</td>\n",
       "      <td>MSRvid</td>\n",
       "      <td>2012test</td>\n",
       "      <td>0004</td>\n",
       "      <td>3.800</td>\n",
       "      <td>한 남자가 큰 플루트를 연주하고 있다.</td>\n",
       "      <td>남자가 플루트를 연주하고 있다.</td>\n",
       "    </tr>\n",
       "    <tr>\n",
       "      <th>2</th>\n",
       "      <td>main-captions</td>\n",
       "      <td>MSRvid</td>\n",
       "      <td>2012test</td>\n",
       "      <td>0005</td>\n",
       "      <td>3.800</td>\n",
       "      <td>한 남자가 피자에 치즈를 뿌려놓고 있다.</td>\n",
       "      <td>한 남자가 구운 피자에 치즈 조각을 뿌려놓고 있다.</td>\n",
       "    </tr>\n",
       "    <tr>\n",
       "      <th>3</th>\n",
       "      <td>main-captions</td>\n",
       "      <td>MSRvid</td>\n",
       "      <td>2012test</td>\n",
       "      <td>0006</td>\n",
       "      <td>2.600</td>\n",
       "      <td>세 남자가 체스를 하고 있다.</td>\n",
       "      <td>두 남자가 체스를 하고 있다.</td>\n",
       "    </tr>\n",
       "    <tr>\n",
       "      <th>4</th>\n",
       "      <td>main-captions</td>\n",
       "      <td>MSRvid</td>\n",
       "      <td>2012test</td>\n",
       "      <td>0009</td>\n",
       "      <td>4.250</td>\n",
       "      <td>한 남자가 첼로를 연주하고 있다.</td>\n",
       "      <td>자리에 앉은 남자가 첼로를 연주하고 있다.</td>\n",
       "    </tr>\n",
       "  </tbody>\n",
       "</table>\n",
       "</div>"
      ],
      "text/plain": [
       "           genre filename      year    id  score               sentence1  \\\n",
       "0  main-captions   MSRvid  2012test  0001  5.000           비행기가 이륙하고 있다.   \n",
       "1  main-captions   MSRvid  2012test  0004  3.800   한 남자가 큰 플루트를 연주하고 있다.   \n",
       "2  main-captions   MSRvid  2012test  0005  3.800  한 남자가 피자에 치즈를 뿌려놓고 있다.   \n",
       "3  main-captions   MSRvid  2012test  0006  2.600        세 남자가 체스를 하고 있다.   \n",
       "4  main-captions   MSRvid  2012test  0009  4.250      한 남자가 첼로를 연주하고 있다.   \n",
       "\n",
       "                      sentence2  \n",
       "0                 비행기가 이륙하고 있다.  \n",
       "1             남자가 플루트를 연주하고 있다.  \n",
       "2  한 남자가 구운 피자에 치즈 조각을 뿌려놓고 있다.  \n",
       "3              두 남자가 체스를 하고 있다.  \n",
       "4       자리에 앉은 남자가 첼로를 연주하고 있다.  "
      ]
     },
     "execution_count": 20,
     "metadata": {},
     "output_type": "execute_result"
    }
   ],
   "source": [
    "import pandas as pd\n",
    "\n",
    "df = pd.DataFrame(tsv)\n",
    "df.head()"
   ]
  },
  {
   "cell_type": "code",
   "execution_count": 1,
   "id": "385ccf11",
   "metadata": {},
   "outputs": [],
   "source": [
    "def get_tsv_data(tsv_dir: str):\n",
    "    '''\n",
    "    tsv_dir : directory of tsv file.\n",
    "    return : dictionary of data.\n",
    "    '''\n",
    "    tsv = {\"genre\": [], \"filename\": [], \"year\": [], \"id\": [], \"score\": [], \"sentence1\": [], \"sentence2\": []}\n",
    "\n",
    "    with open(tsv_dir, \"r\", encoding='utf-8') as f:\n",
    "        for line in f.readlines()[1:]:\n",
    "            line = line.split(\"\\t\")\n",
    "\n",
    "            for i, key in enumerate(tsv.keys()):\n",
    "                tsv[key].append(line[i].replace(\"\\n\", \"\"))\n",
    "    \n",
    "    return tsv\n",
    "\n",
    "train_tsv = get_tsv_data(\"sts-train.tsv\")\n",
    "valid_tsv = get_tsv_data(\"sts-dev.tsv\")\n",
    "test_tsv = get_tsv_data(\"sts-test.tsv\")"
   ]
  },
  {
   "cell_type": "code",
   "execution_count": 2,
   "id": "3a8abf6c",
   "metadata": {},
   "outputs": [
    {
     "name": "stderr",
     "output_type": "stream",
     "text": [
      "c:\\Users\\rando\\Anaconda3\\envs\\boost\\lib\\site-packages\\tqdm\\auto.py:22: TqdmWarning: IProgress not found. Please update jupyter and ipywidgets. See https://ipywidgets.readthedocs.io/en/stable/user_install.html\n",
      "  from .autonotebook import tqdm as notebook_tqdm\n",
      "5749it [00:02, 2161.17it/s]\n",
      "1500it [00:00, 2050.99it/s]\n",
      "1379it [00:00, 2151.56it/s]\n"
     ]
    }
   ],
   "source": [
    "from transformers import AutoTokenizer\n",
    "from tqdm import tqdm\n",
    "\n",
    "tokenizer = AutoTokenizer.from_pretrained(\"klue/bert-base\")\n",
    "print(tokenizer.pad_token_id)\n",
    "\n",
    "def prepare_data(tsv_dict):\n",
    "    label = tsv_dict[\"score\"]\n",
    "    sentence1 = tsv_dict[\"sentence1\"]\n",
    "    sentence2 = tsv_dict[\"sentence2\"]\n",
    "    x = [(tokenizer.encode(s1), tokenizer.encode(s2)) for s1, s2 in tqdm(zip(sentence1, sentence2))]\n",
    "    assert len(x) == len(label)\n",
    "    return x, label\n",
    "\n",
    "train_data = prepare_data(train_tsv)\n",
    "valid_data = prepare_data(valid_tsv)\n",
    "test_data = prepare_data(test_tsv)"
   ]
  },
  {
   "cell_type": "code",
   "execution_count": 4,
   "id": "1bae0c34",
   "metadata": {},
   "outputs": [],
   "source": [
    "train_x, train_y = train_data\n",
    "valid_x, valid_y = valid_data\n",
    "test_x, test_y = test_data"
   ]
  },
  {
   "cell_type": "code",
   "execution_count": 5,
   "id": "15873afc",
   "metadata": {},
   "outputs": [],
   "source": [
    "import numpy as np\n",
    "\n",
    "np.save(\"train_x.npy\", np.array(train_x, dtype='object'))\n",
    "np.save(\"train_y.npy\", np.array(train_y, dtype='object'))\n",
    "\n",
    "np.save(\"valid_x.npy\", np.array(valid_x, dtype='object'))\n",
    "np.save(\"valid_y.npy\", np.array(valid_y, dtype='object'))\n",
    "\n",
    "np.save(\"test_x.npy\", np.array(test_x, dtype='object'))\n",
    "np.save(\"test_y.npy\", np.array(test_y, dtype='object'))"
   ]
  },
  {
   "cell_type": "code",
   "execution_count": 62,
   "id": "b2401b82",
   "metadata": {
    "scrolled": true
   },
   "outputs": [
    {
     "data": {
      "text/plain": [
       "array([list([0, 12279, 2]),\n",
       "       list([0, 1078, 2470, 2747, 2259, 5227, 3692, 3720, 5255, 16, 19873, 7933, 4699, 2218, 4640, 16, 4543, 10131, 2170, 4249, 4167, 5029, 2496, 31369, 9482, 2116, 597, 13177, 575, 2052, 7245, 1041, 2371, 2062, 18, 2])],\n",
       "      dtype=object)"
      ]
     },
     "execution_count": 62,
     "metadata": {},
     "output_type": "execute_result"
    }
   ],
   "source": [
    "train_x = np.load(\"train_x.npy\", allow_pickle=True)\n",
    "\n",
    "train_x[1]"
   ]
  },
  {
   "cell_type": "markdown",
   "id": "9da50579",
   "metadata": {},
   "source": [
    "위와 같이 sentence1과 sentence2의 길이가 크게 차이나는 경우가 있어 bucketing이 필요한 상황."
   ]
  }
 ],
 "metadata": {
  "kernelspec": {
   "display_name": "Python 3.9.13 ('boost')",
   "language": "python",
   "name": "python3"
  },
  "language_info": {
   "codemirror_mode": {
    "name": "ipython",
    "version": 3
   },
   "file_extension": ".py",
   "mimetype": "text/x-python",
   "name": "python",
   "nbconvert_exporter": "python",
   "pygments_lexer": "ipython3",
   "version": "3.9.13"
  },
  "vscode": {
   "interpreter": {
    "hash": "9159c243aea83f1dee5bf2e92f876e1e3460bf528ee8db6da0661d271ff4e3c6"
   }
  }
 },
 "nbformat": 4,
 "nbformat_minor": 5
}
